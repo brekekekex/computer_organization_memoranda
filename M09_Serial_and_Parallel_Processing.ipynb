{
 "cells": [
  {
   "cell_type": "markdown",
   "metadata": {},
   "source": [
    "# M09. Serial and Parallel Processing"
   ]
  },
  {
   "cell_type": "markdown",
   "metadata": {},
   "source": [
    "Rather loosely, *serial processing* describes a type of computation in which tasks are performed one after another, whereas *parallel processing* refers to the dual paradigm: tasks are performed concurrently by multiple *worker processes* with varying degrees of interdependence (and which hence require varying degrees of coordination). Serial programs are easier to write than parallel programs. Any endeavor to parallelize a computation should likely be backed by the possibility of marked improvements in latency (including *overhead*) as otherwise, the effort would be hardly worthwhile.      \n",
    "\n",
    "Certain problems are more amenable to parallelization than others, requiring minimal effort to divide into smaller tasks. In the extreme, such workloads are called *embarassingly-parallel*.\n",
    "\n",
    "A notable example of an embarassingly-parallel workload is *Monte Carlo Simulation*. In particular, using the Monte Carlo method of computing $\\pi$, we will demonstrate the (best case) speedups afforded by parallelization.\n",
    "\n",
    "It is well known that the value of $\\pi$ may be estimated by picking random points from within the unit square, and then counting the fraction of points found to lie within the first quadrant of the unit circle. Slightly more formally, a point $(x,y)$ drawn uniformly from $[0,1]^2$ has a $\\frac{\\pi}{4}$ probability of being within a Euclidean distance of $1$ from the origin. The Monte Carlo method exploits this quality as follows: \n",
    "\n",
    "- Call the drawing of a random point an independent *experiment*.\n",
    "- Of a sufficiently large number of such experiments $N$, count the number $N_{Hit}$ which fall within distance $1$ of (0,0). \n",
    "- Then, $$\\frac{\\pi}{4}\\approx \\frac{N_{Hit}}{N}$$ and $$\\pi \\approx \\frac{4N_{Hit}}{N}.$$\n",
    "\n",
    "This is a manifestly stupid way of estimating $\\pi$ (convergence is abysmal), but it suffices for the task at hand. Parallelizing this process is trivial: instead of making one process perform $N$ experiments, we will spawn $p$ many processes that will each perfom $N / p$ experiments. \n",
    "\n",
    "We begin our implementation by creating a *workers* module dedicated to a *worker* function:"
   ]
  },
  {
   "cell_type": "markdown",
   "metadata": {},
   "source": [
    "```python\n",
    "import numpy as np\n",
    "\n",
    "def worker(iterations):\n",
    "    \"\"\"\n",
    "    Generate desired number of random 2-tuples drawn uniformly from [0,1]^2\n",
    "    Take L2 norm (distance from origin) of each tuple\n",
    "    Use Boolean mask to count number of points within unit circle\n",
    "    Return count\n",
    "    \"\"\"\n",
    "    simulations = np.linalg.norm(np.random.rand(iterations,2), axis = 1) \n",
    "    return np.count_nonzero(simulations < 1)\n",
    "```"
   ]
  },
  {
   "cell_type": "markdown",
   "metadata": {},
   "source": [
    "Back in main, we define serial and parallel versions of the Monte Carlo method (both using our worker function):"
   ]
  },
  {
   "cell_type": "code",
   "execution_count": 2,
   "metadata": {},
   "outputs": [],
   "source": [
    "import multiprocessing as mp\n",
    "import workers\n",
    "\n",
    "def serial(iterations):\n",
    "    \"\"\"\n",
    "    Normalize count by total iterations and multiply by 4\n",
    "    Return pi estimate\n",
    "    \"\"\"\n",
    "    return 4*(workers.worker(iterations)/iterations)\n",
    "\n",
    "def multiprocess(iterations, num_workers):\n",
    "    \"\"\"\n",
    "    Spawn num_workers-many processes\n",
    "    Create a pool, or a 'work-crew'\n",
    "    Assign each worker to simulating a portion of the total number of experiments\n",
    "    Retrieve each worker's count and sum to obtain a global count \n",
    "    Normalize global count by total iterations and multiply by 4\n",
    "    Return pi estimate\n",
    "    \"\"\"\n",
    "    pool = mp.Pool(processes = num_workers)\n",
    "    results = pool.map(workers.worker, [int(iterations/num_workers)]*num_workers)\n",
    "    return 4*(sum(results)/iterations)"
   ]
  },
  {
   "cell_type": "markdown",
   "metadata": {},
   "source": [
    "We verify that this actually works:"
   ]
  },
  {
   "cell_type": "code",
   "execution_count": 22,
   "metadata": {
    "scrolled": true
   },
   "outputs": [
    {
     "name": "stdout",
     "output_type": "stream",
     "text": [
      "3.140424\n",
      "3.14258\n"
     ]
    }
   ],
   "source": [
    "print(serial(1000000))\n",
    "print(multiprocess(1000000,2))"
   ]
  },
  {
   "cell_type": "markdown",
   "metadata": {},
   "source": [
    "(We've also verified that this is an awful way of getting to $\\pi$&mdash;in fact, we'd be better-off computing the Taylor expansion of the inverse tangent of 1, the so-called Gregory-Leibniz Series.)\n",
    "\n",
    "Let's benchmark our results between serial and parallel implementations (here, with 2, 4, and 8 concurrent processes):"
   ]
  },
  {
   "cell_type": "code",
   "execution_count": 3,
   "metadata": {},
   "outputs": [],
   "source": [
    "\"\"\"\n",
    "Diagnostics code from Sebastian Raschka at \n",
    "https://sebastianraschka.com/Articles/2014_multiprocessing.html#kernel-density-estimation-as-benchmarking-function\n",
    "\"\"\"\n",
    "\n",
    "import timeit\n",
    "\n",
    "benchmarks = []\n",
    "sim_count = 100000000 # total number of experiments\n",
    "\n",
    "benchmarks.append(timeit.Timer('serial(sim_count)',\n",
    "    'from __main__ import serial, sim_count').timeit(number=1))\n",
    "\n",
    "benchmarks.append(timeit.Timer('multiprocess(sim_count, 2)',\n",
    "    'from __main__ import multiprocess, sim_count').timeit(number=1))\n",
    "\n",
    "benchmarks.append(timeit.Timer('multiprocess(sim_count, 4)',\n",
    "    'from __main__ import multiprocess, sim_count').timeit(number=1))\n",
    "\n",
    "benchmarks.append(timeit.Timer('multiprocess(sim_count, 8)',\n",
    "    'from __main__ import multiprocess, sim_count').timeit(number=1))"
   ]
  },
  {
   "cell_type": "markdown",
   "metadata": {},
   "source": [
    "For posterity, it's best to also dump our system details:"
   ]
  },
  {
   "cell_type": "code",
   "execution_count": 4,
   "metadata": {},
   "outputs": [],
   "source": [
    "\"\"\"\n",
    "Code from Sebastian Raschka at \n",
    "https://sebastianraschka.com/Articles/2014_multiprocessing.html#kernel-density-estimation-as-benchmarking-function\n",
    "\"\"\"\n",
    "\n",
    "import platform\n",
    "\n",
    "def dump_sys():\n",
    "    print('\\nPython version\\t:', platform.python_version())\n",
    "    print('compiler\\t:', platform.python_compiler())\n",
    "    print('\\nsystem\\t\\t:', platform.system())\n",
    "    print('machine\\t\\t:', platform.machine())\n",
    "    print('processor\\t:', platform.processor())\n",
    "    print('CPU count\\t:', mp.cpu_count())"
   ]
  },
  {
   "cell_type": "markdown",
   "metadata": {},
   "source": [
    "Finally, we plot our results as follows"
   ]
  },
  {
   "cell_type": "code",
   "execution_count": 6,
   "metadata": {},
   "outputs": [
    {
     "data": {
      "image/png": "[encoded data removed]",
      "text/plain": [
       "<Figure size 720x576 with 1 Axes>"
      ]
     },
     "metadata": {
      "needs_background": "light"
     },
     "output_type": "display_data"
    },
    {
     "name": "stdout",
     "output_type": "stream",
     "text": [
      "\n",
      "Python version\t: 3.7.4\n",
      "compiler\t: MSC v.1915 64 bit (AMD64)\n",
      "\n",
      "system\t\t: Windows\n",
      "machine\t\t: AMD64\n",
      "processor\t: Intel64 Family 6 Model 60 Stepping 3, GenuineIntel\n",
      "CPU count\t: 8\n"
     ]
    }
   ],
   "source": [
    "\"\"\"\n",
    "Code from Sebastian Raschka at \n",
    "https://sebastianraschka.com/Articles/2014_multiprocessing.html#kernel-density-estimation-as-benchmarking-function\n",
    "\"\"\"\n",
    "\n",
    "from matplotlib import pyplot as plt\n",
    "import numpy as np\n",
    "\n",
    "def plot_results():\n",
    "    bar_labels = ['serial', '2', '4', '8']\n",
    "\n",
    "    fig = plt.figure(figsize=(10,8))\n",
    "\n",
    "    # plot bars\n",
    "    y_pos = np.arange(len(benchmarks))\n",
    "    plt.yticks(y_pos, bar_labels, fontsize=16)\n",
    "    bars = plt.barh(y_pos, benchmarks,\n",
    "             align='center', alpha=0.4, color='g')\n",
    "\n",
    "    # annotation and labels\n",
    "\n",
    "    for ba,be in zip(bars, benchmarks):\n",
    "        plt.text(ba.get_width() + 2, ba.get_y() + ba.get_height()/2,\n",
    "                '{0:.2%}'.format(benchmarks[0]/be),\n",
    "                ha='center', va='bottom', fontsize=12)\n",
    "\n",
    "    plt.xlabel('time in seconds for sim_count=%s' %sim_count, fontsize=14)\n",
    "    plt.ylabel('number of processes', fontsize=14)\n",
    "    t = plt.title('Serial vs. Multiprocessing (Monte Carlo)', fontsize=18)\n",
    "    plt.ylim([-1,len(benchmarks)+0.5])\n",
    "    plt.xlim([0,max(benchmarks)*1.1])\n",
    "    plt.vlines(benchmarks[0], -1, len(benchmarks)+0.5, linestyles='dashed')\n",
    "    plt.grid()\n",
    "    plt.show()\n",
    "\n",
    "plot_results()\n",
    "dump_sys()"
   ]
  },
  {
   "cell_type": "markdown",
   "metadata": {},
   "source": [
    "It is apparent that there are significant benefits to parallelization: with just two processes, a speedup of more than 1.5x over the serial version of Monte Carlo is achieved. It is also apparent that there are diminishing returns to increasing parallelization (in fact, on this computer, overhead really began to kick-in beyond eight processes)."
   ]
  }
 ],
 "metadata": {
  "kernelspec": {
   "display_name": "Python 3",
   "language": "python",
   "name": "python3"
  },
  "language_info": {
   "codemirror_mode": {
    "name": "ipython",
    "version": 3
   },
   "file_extension": ".py",
   "mimetype": "text/x-python",
   "name": "python",
   "nbconvert_exporter": "python",
   "pygments_lexer": "ipython3",
   "version": "3.7.4"
  }
 },
 "nbformat": 4,
 "nbformat_minor": 2
}
