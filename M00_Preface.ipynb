{
 "cells": [
  {
   "cell_type": "markdown",
   "metadata": {},
   "source": [
    "# M00. Preface"
   ]
  },
  {
   "cell_type": "markdown",
   "metadata": {},
   "source": [
    "There are courses which *necessitate* commentary, and then there are courses for which students are actually *inspired to produce* commentary. Tragically, these two sets are largely disjoint.\n",
    "\n",
    "The course referred to as *Computer Organization*, better known as ECE 200, is a course that could hardly be said to lack in exposition. Nor does it suffer from a shortage of profound ideas and principles, the *abundance* of which making it fertile for further thought and effort. At least, this was the case for me.\n",
    "\n",
    "The memos that follow, at the time of writing numbering in the high teens, are a collection of techniques, derivations, and simulations relating to&mdash;but not redundant with&mdash;the material covered in lecture. Their content was originally pursued for my own amusement but my hope now is that they may be available for your perusal. My guess is that they will only appeal to the more skeptical subset of the class anyway. You are under no obligation to read them. \n",
    "\n",
    "The memos will be released on a rolling basis consistent not only with the pace of the lectures but with particular questions should I see them arise. Wherever their content may depart from what is mentioned by the Professor, his lectures should take precedence. \n",
    "\n",
    "Each memo has been published as a Juypter Notebook, meaning that simulations and code snippets may be replicated and tweaked at your discretion, provided you have a basic knowledge of Python. If you would like to try this, I highly recommend downloading an all-inclusive scientific computing environment such as the [Anaconda](https://www.anaconda.com/) distribution (which comes with Jupyter). The decision to use Python instead of MATLAB, which remains critical to the upper level ECE curriculum, was mostly informed by personal experience: I have yet to hear a compelling reason to use MATLAB other than sentimentality or inertia.\n",
    "\n",
    "I will conclude by mentioning that these memoranda may be found at [this](https://github.com/brekekekex/computer_organization_memoranda) GitHub repository. While GitHub's markdown renderer is acceptable for most of what we will be doing, some LaTeX may be formatted incorrectly. For this reason, I will generally link to the Jupyter [nbviewer](https://nbviewer.jupyter.org/github/brekekekex/computer_organization_memoranda/tree/master/), reserving GitHub for pull requests. Otherwise, corrections, suggestions, invectives, and polemics are all welcome at <ynakamot@u.rochester.edu>.    "
   ]
  }
 ],
 "metadata": {
  "kernelspec": {
   "display_name": "Python 3",
   "language": "python",
   "name": "python3"
  },
  "language_info": {
   "codemirror_mode": {
    "name": "ipython",
    "version": 3
   },
   "file_extension": ".py",
   "mimetype": "text/x-python",
   "name": "python",
   "nbconvert_exporter": "python",
   "pygments_lexer": "ipython3",
   "version": "3.7.4"
  }
 },
 "nbformat": 4,
 "nbformat_minor": 2
}
