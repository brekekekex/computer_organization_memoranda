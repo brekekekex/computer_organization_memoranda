{
 "cells": [
  {
   "cell_type": "markdown",
   "metadata": {},
   "source": [
    "# M07. Speedup Algebra"
   ]
  },
  {
   "cell_type": "markdown",
   "metadata": {},
   "source": [
    "When comparing the latencies or throughputs of two different architectures, one observes a meaningful improvement only *over* the *inferior* (anything less would vitiate the meaning of the word *improvement*). The term *speedup* in and of itself therefore becomes a misnomer when, for instance, one's 'enhancements' have resulted in something categorically slower than the original.\n",
    "\n",
    "Rather naively, we often assume that the posterior architecture is superior to the prior. Whatever the case, we define *speedup* (in my opinion, still an unfortunate term) as a relative measure of the speed of architecture $A'$ with respect to that of architecture $A$:\n",
    "\n",
    "$$S_{A} {A'} = \\text{Speedup of $A'$ w.r.t $A$}.$$\n",
    "\n",
    "It is desirable that larger speedups should correspond to larger *improvements*, and so they shall. Regarding latency, the speedup of $A'$ with respect to $A$ is defined as\n",
    "\n",
    "$$S_{A} {A'} = \\frac{W_A}{W_A'}$$\n",
    "\n",
    "where $W_A$ and $W_{A'}$ denote, respectively, the latencies of architectures $A$ and $A'$. Thus, for a fixed $W_A$, $S_{A} A'$ is *increased* by a *decrease* in $W_{A'}$ (recall that smaller latencies are better). And, as we might expect,\n",
    "\n",
    "$$\\lim_{W_{A'} \\to 0} S_A A' = \\infty.$$\n",
    "\n",
    "Speedups in throughput, on the other hand, are defined by\n",
    "\n",
    "$$S_{A} {A'} = \\frac{\\lambda_{A'}}{\\lambda_A}$$\n",
    "\n",
    "where $\\lambda_{A'}$ and $\\lambda_A$ denote, respectively, the throughputs of architectures $A'$ and $A$. For a fixed throughput $\\lambda_A$, \n",
    "\n",
    "$$\\lim_{\\lambda_{A'} \\to \\infty} S_A A' = \\infty$$\n",
    "\n",
    "(throughputs, unlike latencies, are better the bigger they are).  \n",
    "\n",
    "Here are some useful properties of speedups (these hold whether they are speedups in latency or throughput, provided consistency):\n",
    "\n",
    "- $S_A A'' = S_{A'} A'' \\cdot S_A A'$\n",
    "- $S_A A' > 0$\n",
    "- $S_A A' = (S_{A'} A)^{-1}$\n",
    "\n",
    "Some concluding remarks:\n",
    "- For speedups in latency, it is appropriate to say that $A'$ is $S_A A'$-times faster than $A$ if and only if $W_{A'} < W_A$.\n",
    "- For speedups in throughput, it is appropriate to say that $A'$ is $S_A A'$-times faster than $A$ if and only if $\\lambda_{A'} > \\lambda_A.$\n",
    "- We generally avoid descriptions of the form '$A$ is $x$-times *slower* than $B$.'"
   ]
  }
 ],
 "metadata": {
  "kernelspec": {
   "display_name": "Python 3",
   "language": "python",
   "name": "python3"
  },
  "language_info": {
   "codemirror_mode": {
    "name": "ipython",
    "version": 3
   },
   "file_extension": ".py",
   "mimetype": "text/x-python",
   "name": "python",
   "nbconvert_exporter": "python",
   "pygments_lexer": "ipython3",
   "version": "3.7.4"
  }
 },
 "nbformat": 4,
 "nbformat_minor": 2
}
