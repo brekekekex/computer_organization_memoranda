{
 "cells": [
  {
   "cell_type": "markdown",
   "metadata": {},
   "source": [
    "# M08. SPEC CPU "
   ]
  },
  {
   "cell_type": "markdown",
   "metadata": {},
   "source": [
    "The performance of a machine $m$ timed with respect to a suite of $n$ benchmarks may be collated as a vector $\\vec{m}\\in\\mathbb{R}^n_{+}$. The overall SPEC score of $m$ with respect to the performance of a reference machine, $\\vec{r}\\in \\mathbb{R}^n_{+}$, is then simply \n",
    "\n",
    "$$S_{\\vec{r}}\\vec{m} = \\sqrt[\\leftroot{-1}\\uproot{4}\\scriptstyle n]{\\prod_{i=1}^{n}\\frac{r_i}{m_i}} \\geq 0$$\n",
    "\n",
    "using projection notation. It should be noted that these scores are non-negative. By the properties of the geometric mean, we have, for any two reference machines $r$ and $p$,\n",
    "\n",
    "$$S_{\\vec{r}} \\vec{m} \\cdot S_{\\vec{p}} \\vec{r} = \\sqrt[\\leftroot{-1}\\uproot{4}\\scriptstyle n]{\\prod_{i=1}^{n}\\frac{r_i}{m_i}}\\cdot \\sqrt[\\leftroot{-1}\\uproot{4}\\scriptstyle n]{\\prod_{i=1}^{n}\\frac{p_i}{r_i}} = \\sqrt[\\leftroot{-1}\\uproot{4}\\scriptstyle n]{\\prod_{i=1}^{n}\\frac{r_i}{m_i}\\frac{p_i}{r_i}} = \\sqrt[\\leftroot{-1}\\uproot{4}\\scriptstyle n]{\\prod_{i=1}^{n}\\frac{p_i}{m_i}} = S_{\\vec{p}} \\vec{m}.$$\n",
    "\n",
    "This means that it is trivial to *change the reference* of a SPEC score. We will now proceed to obsolete this (albeit nice) property. \n",
    "\n",
    "\n",
    "Suppose we have $k$ machines with performances $\\vec{m_1}, \\vec{m_2}, \\ldots, \\vec{m_k} \\in \\mathbb{R}^n_{+}$. Without loss of generality, let them have a SPEC score ranking (with respect to $\\vec{m_1}$) of\n",
    "\n",
    "$$S_{\\vec{m_1}} \\vec{m_1} \\leq S_{\\vec{m_1}} \\vec{m_2} \\leq S_{\\vec{m_1}} \\vec{m_3} \\leq \\ldots \\leq S_{\\vec{m_1}} \\vec{m_k}$$\n",
    "\n",
    "How about with respect to $\\vec{m_i}$ (the performance of the $i$-th machine)? By the above lemma, we know that a change of reference may be performed by multiplying through by $S_{\\vec{m_i}} \\vec{m_1}$. Coupled with the observation that SPEC scores are strictly non-negative, we have\n",
    "\n",
    "$$S_{\\vec{m_1}} \\vec{m_1}S_{\\vec{m_i}} \\vec{m_1} \\leq S_{\\vec{m_1}} \\vec{m_2}S_{\\vec{m_i}} \\vec{m_1} \\leq S_{\\vec{m_1}} \\vec{m_3}S_{\\vec{m_i}} \\vec{m_1} \\leq \\ldots \\leq S_{\\vec{m_1}} \\vec{m_k}S_{\\vec{m_i}} \\vec{m_1}$$\n",
    "\n",
    "and hence\n",
    "\n",
    "$$S_{\\vec{m_i}} \\vec{m_1} \\leq S_{\\vec{m_i}} \\vec{m_2} \\leq S_{\\vec{m_i}} \\vec{m_3} \\leq \\ldots \\leq S_{\\vec{m_i}} \\vec{m_k}.$$\n",
    "\n",
    "In this sense, SPEC CPU is *order-preserving*: any ranking of machines is invariant under changing the machine used as the reference. The geometric mean is unique in upholding this property&mdash;neither the arithmetic nor the harmonic means permit this sort of agnosticism.\n",
    "\n",
    "\n",
    "\n"
   ]
  }
 ],
 "metadata": {
  "kernelspec": {
   "display_name": "Python 3",
   "language": "python",
   "name": "python3"
  },
  "language_info": {
   "codemirror_mode": {
    "name": "ipython",
    "version": 3
   },
   "file_extension": ".py",
   "mimetype": "text/x-python",
   "name": "python",
   "nbconvert_exporter": "python",
   "pygments_lexer": "ipython3",
   "version": "3.7.4"
  }
 },
 "nbformat": 4,
 "nbformat_minor": 2
}
