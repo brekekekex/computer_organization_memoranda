{
 "cells": [
  {
   "cell_type": "markdown",
   "metadata": {},
   "source": [
    "# M03. Bit Vectors"
   ]
  },
  {
   "cell_type": "markdown",
   "metadata": {},
   "source": [
    "The canonical Boolean algebra $(\\{0,1\\}, \\cdot, +, ')$ contains two elements. This is fine if all we want to do is count to one. If, however, we would like to count up to bigger numbers, such as $2$, $4$, or even $2^{32}$, we must accordingly work with larger spaces.\n",
    "\n",
    "The most natural way to do this is by taking the *direct product* of Boolean algebras. In particular, we can work with *bit vectors* in \n",
    "\n",
    "$$\\{0,1\\}\\times\\{0,1\\}\\times \\ldots \\times \\{0,1\\} = \\{0,1\\}^n.$$\n",
    "\n",
    "Each bit vector is of the form \n",
    "\n",
    "$$(b_{n-1}, b_{n-2},\\ldots, b_0)$$\n",
    "\n",
    "where $b_i \\in \\{0,1\\}$. In practice, we omit the tuple-notation and simply present the vector as some fixed-length sequence of 0s and 1s:\n",
    "\n",
    "$$0101101_{2}.$$\n",
    "\n",
    "For a fixed $n$, if the set of these bit vectors is endowed with bitwise AND, bitwise OR, and bitwise NOT, we obtain another Boolean algebra. We will defer a more formal discussion of Boolean algebras over $\\{0,1\\}^n$ to another memo. At this moment in time, it is more important to have a notion of the 'size' of these spaces.\n",
    "\n",
    "Recall that for finite sets $A$ and $B$ with respective cardinalities $|A|$ and $|B|$, \n",
    "\n",
    "$$|A\\times B| = |A||B|.$$\n",
    "\n",
    "Thus, with $n$ bits, we obtain $2^n$ possible bit vectors. \n",
    "\n",
    "Given an $n$-bit bit vector, we can index into any of its components using $\\left \\lceil{\\log_2{n}}\\right \\rceil$ select lines, which together may also constitute a bit vector. The following example specifies the selection of one bit from a 2-bit bit vector using $\\left \\lceil{\\log_2{2}}\\right \\rceil = 1$ select line:\n",
    "\n",
    "$$\\mu: \\{0,1\\}^2 \\times \\{0,1\\} \\to \\{0,1\\}$$\n",
    "$$((b_1, b_0), 0) \\mapsto b_0$$\n",
    "$$((b_1, b_0), 1) \\mapsto b_1$$\n",
    "\n",
    "When implemented as a circuit, the function $\\mu$ is also known as a *multiplexer*. \n",
    "\n",
    "An *inverse multiplexer* takes one data bit and $n$ select lines, and passes the value of the data bit through one of $2^n$ output lines. An example with $2$ select lines (and, therefore, $2^2 = 4$ output lines) may look as follows:\n",
    "\n",
    "$$\\mu': \\{0,1\\} \\times \\{0,1\\}^2 \\to \\{0,1\\}^4$$\n",
    "$$(d,(0,0)) \\mapsto (0,0,0,d)$$\n",
    "$$(d,(0,1)) \\mapsto (0,0,d,0)$$\n",
    "$$(d,(1,0)) \\mapsto (0,d,0,0)$$\n",
    "$$(d,(1,1)) \\mapsto (d,0,0,0)$$\n",
    "\n",
    "A *decoder* is functionally an inverse multiplexer where the data bit is effectively 'shorted' to $1$ and an *activation bit* specifies the activation of one of $2$ output lines:\n",
    "\n",
    "$$\\delta: \\{0,1\\} \\to \\{0,1\\}^2$$\n",
    "$$0 \\mapsto (0,1)$$\n",
    "$$1 \\mapsto (1,0)$$\n",
    "\n",
    "Of course, this functionality may be generalized to $n$-to-$2^n$ decoders. \n",
    "\n",
    "While this functional presentation of datapath components may appear slightly abstruse, it is a nice way to think of how the width of bit vectors may change as signals propagate through a given architecture. In particular, databuses tend to become *narrower* via a multiplexer and become *wider* via an inverse multiplexer or decoder.\n"
   ]
  }
 ],
 "metadata": {
  "kernelspec": {
   "display_name": "Python 3",
   "language": "python",
   "name": "python3"
  },
  "language_info": {
   "codemirror_mode": {
    "name": "ipython",
    "version": 3
   },
   "file_extension": ".py",
   "mimetype": "text/x-python",
   "name": "python",
   "nbconvert_exporter": "python",
   "pygments_lexer": "ipython3",
   "version": "3.7.4"
  }
 },
 "nbformat": 4,
 "nbformat_minor": 2
}
