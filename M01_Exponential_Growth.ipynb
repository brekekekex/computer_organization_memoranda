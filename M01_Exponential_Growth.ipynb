{
 "cells": [
  {
   "cell_type": "markdown",
   "metadata": {},
   "source": [
    "# M01. Exponential Growth"
   ]
  },
  {
   "cell_type": "markdown",
   "metadata": {},
   "source": [
    "It is more or less obligatory to begin by mentioning *Moore's Law*, which, if it has somewhat lost its conviction over the years, nonetheless remains a robust icebreaker. The Law is usually stated as follows: *the density of components in an integrated circuit doubles about once every two years*. \n",
    "\n",
    "In truth, the force of the Law comes not so much from it saying that transistor density doubles every *two* years as from it saying that it doubles *every* two years&mdash;it says that the growth of transistor density is an exponential process. It would certainly be a category-error to make this sort of remark about something linear ('I double in age every quarter-century') or logarithmic ('Usain Bolt doubles in speed every decade'). Exponential growth is quite special and always transient. Moore's Law is an *aberration*.\n",
    "\n",
    "Formally, a continuous signal $x(t)$ exhibits exponential growth if its rate of change is proportional to itself,\n",
    "\n",
    "$$\\frac{dx}{dt} \\propto x(t).$$\n",
    "\n",
    "More conveniently, $x(t)$ is an exponential function of time:\n",
    "\n",
    "\\begin{align}\n",
    "&\\Rightarrow \\int \\frac{1}{x(t)}dx(t) \\propto \\int dt\\\\\n",
    "&\\Rightarrow \\ln{|x(t)|} \\propto t+c\\\\\n",
    "&\\ldots\\\\\n",
    "&\\Rightarrow x(t) = x(0)e^{kt}.\n",
    "\\end{align}\n",
    "\n",
    "When the exponential process is defined over discrete time, we may write \n",
    "\n",
    "$$x(t) =  x(0)(1+\\frac{r}{100})^t,$$\n",
    "\n",
    "where we have written $x(t)$ in the familiar form of an initial value multiplied by a compounding interest rate $r$. \n",
    "\n",
    "The doubling time $t_2$ of such an exponential process may be estimated by the so-called Rule of 72,\n",
    "\n",
    "$$t_2 \\approx \\frac{72}{r},$$\n",
    "\n",
    "which follows from \n",
    "\n",
    "\\begin{align}\n",
    "&2x(0) = x(0)(1+\\frac{r}{100})^{t_2} \\\\\n",
    "&\\Rightarrow 2 = (1+\\frac{r}{100})^{t_2} \\\\\n",
    "&\\Rightarrow \\log_{1+\\frac{r}{100}}2 = t_2 \\\\\n",
    "&\\Rightarrow \\frac{\\ln2}{\\ln{(1+\\frac{r}{100})}} = t_2.\n",
    "\\end{align}\n",
    "\n",
    "With a second-order Taylor-expansion of the denominator,\n",
    "\n",
    "\\begin{align}\n",
    "t_2 &\\approx \\frac{\\ln2}{\\frac{r}{100}-\\frac{\\frac{r}{100}^2}{2}}\\\\\n",
    "&\\approx \\frac{\\ln2}{\\frac{r}{100}}\\\\\n",
    "&\\approx \\frac{69}{r}\\\\\n",
    "&\\approx \\frac{72}{r}.\n",
    "\\end{align}\n",
    "\n",
    "The last approximation may appear slightly cheeky but we do it for the acceptable reason that $69$ has four factors while $72$ has twelve.\n",
    "\n",
    "An example is maybe in order: a quantity that increases at a rate of $r=8$ percent per unit time (around the average annual return of the S&P 500) will double in roughly $\\frac{72}{8} = 9$ time-units.\n",
    "\n",
    "Finally, we note that the Rule of 72 works best (has minimum error) for *small* values of $r$ (incidentally, around 8 percent). Perhaps what best illustrates the might of Moore's Law is that it corresponds to an annualized rate of *40 percent*.\n",
    "\n",
    "[Previous Memo]\n",
    "[Next Memo]\n",
    "\n"
   ]
  }
 ],
 "metadata": {
  "kernelspec": {
   "display_name": "Python 3",
   "language": "python",
   "name": "python3"
  },
  "language_info": {
   "codemirror_mode": {
    "name": "ipython",
    "version": 3
   },
   "file_extension": ".py",
   "mimetype": "text/x-python",
   "name": "python",
   "nbconvert_exporter": "python",
   "pygments_lexer": "ipython3",
   "version": "3.7.4"
  }
 },
 "nbformat": 4,
 "nbformat_minor": 2
}
