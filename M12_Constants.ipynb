{
 "cells": [
  {
   "cell_type": "markdown",
   "metadata": {},
   "source": [
    "# M12. Constants"
   ]
  },
  {
   "cell_type": "markdown",
   "metadata": {},
   "source": [
    "A *constant* is a value that cannot be altered by a program during execution&mdash;it is specified in the code itself. Constants are ubiquitous. For example, consider a program to compute the wavelength of an electromagnetic wave in free space with frequency $f$:"
   ]
  },
  {
   "cell_type": "code",
   "execution_count": 4,
   "metadata": {},
   "outputs": [
    {
     "data": {
      "text/plain": [
       "59958.4916"
      ]
     },
     "execution_count": 4,
     "metadata": {},
     "output_type": "execute_result"
    }
   ],
   "source": [
    "def wavelength(f):\n",
    "    c = 299792458 # speed of light in vacuum in m/s\n",
    "    return c/f\n",
    "\n",
    "wavelength(5000) # 5000 Hz"
   ]
  },
  {
   "cell_type": "markdown",
   "metadata": {},
   "source": [
    "The value of $c$ does not change during runtime (hence the term *constant*&mdash;on second thought, this is a bit of a contrived example because $c$ doesn't change during the runtime of the universe, either).\n",
    "\n",
    "In MIPS, it is possible to encode a constant into an assembly instruction as an *immediate operand*. The following is a table of MIPS-I ALU instructions that take an immediate:\n",
    "\n",
    "| MNEMONIC |             DESCRIPTION             |\n",
    "|:--------:|:-----------------------------------:|\n",
    "| ADDI     | Add Immediate Word                  |\n",
    "| ADDIU    | Add Immmediate Unsigned Word        |\n",
    "| SLTI     | Set on Less Than Immediate          |\n",
    "| SLTIU    | Set on Less Than Immediate Unsigned |\n",
    "| ANDI     | And Immediate                       |\n",
    "| ORI      | Or Immediate                        |\n",
    "| XORI     | Exclusive-Or Immediate              |\n",
    "| LUI      | Load Upper Immediate                |\n",
    "\n",
    "We note that these instructions are still fixed to a size of 32-bits. Consequently, after budgeting for an opcode (6 bits) and two registers ($2\\times 5 = 10$ bits) or an opcode, a register, and an *fmt* field ($6 + 5+5 = 16$ bits), immediates are limited to 16 bits. Signed immediates may therefore range from $-2^{15}$ to $2^{15}-1$.\n",
    "\n",
    "Provided our constant is within this range, there is little to worry about. Suppose, for instance, that we want to load the value $174$ (8 bits) into register *s0*. We can perform\n",
    "\n",
    "```\n",
    "addi $s0, $zero, 174\n",
    "```\n",
    "\n",
    "How about values greater than $2^{15}-1 = 32767$? Attempting\n",
    "\n",
    "```\n",
    "addi $s0, $zero, 32768\n",
    "```\n",
    "results in an error:\n",
    "\n",
    "```\n",
    "Extended (pseudo) instruction or format not permitted.  See Settings.\n",
    "```\n",
    "\n",
    "(in general, you *should* have pseudo-instructions turned off. Uncheck *Settings* -> *Permit extended (pseudo) instructions and formats*). \n",
    "\n",
    "The workaround (and, in fact, the actual implementation beneath the pseudoinstruction *li*) is to divide the constant into its high-order 16 bits (2 bytes) and low-order 16 bits. This is more easily done if the constant is represented in hexadecimal: $1000000_{10} = 000F4240_{16}$.  \n",
    "\n",
    "We may then do\n",
    "\n",
    "```\n",
    "lui $s0, 0x000F # Load upper two bytes of constant into upper two bytes of $s0\n",
    "ori $s0, $s0, 0x4240 # Load lower two bytes of constant into lower two bytes of $s0\n",
    "```\n",
    "(This works because registers are initialized to 0&mdash;recall that x OR 0 = x).\n",
    "\n",
    "Or, equivalently, one can do\n",
    "\n",
    "```\n",
    "lui $s0, 0x000F \n",
    "addi $s0, $s0, 0x4240 \n",
    "```\n",
    "\n",
    "I want to also mention how we load *static data* into registers. In MIPS, data fixed at compile-time are stored in the program's *data-segment*, starting at location 0x10010000.\n",
    "\n",
    "For example, suppose we have\n",
    "\n",
    "```\n",
    "    .data\n",
    "veryimportantnum: .word 68345\n",
    "```\n",
    "\n",
    "The pseudo-instruction *lw* allows us to load the value $68345$ by its label *veryimportantnum* (which is an address)\n",
    "\n",
    "```\n",
    "    .text\n",
    "lw $s0, veryimportantnum\n",
    "```\n",
    "\n",
    "Strictly speaking, *lw* is not a pseudo-instruction but the usage above is permitted only if pseudo-instructions are permitted. Which they are not.\n",
    "\n",
    "The more tedious implementation is \n",
    "\n",
    "```\n",
    "    .text\n",
    "lui $s0, 0x1001 # load the starting address of the data segment\n",
    "lw $s0, 0($s0) # load the value at the starting address of the data segment (offset 0 for the first word) \n",
    "\n",
    "```\n",
    "\n",
    "(unfortunately, this means that labels are not very useful when pseudo-instructions are turned off)."
   ]
  }
 ],
 "metadata": {
  "kernelspec": {
   "display_name": "Python 3",
   "language": "python",
   "name": "python3"
  },
  "language_info": {
   "codemirror_mode": {
    "name": "ipython",
    "version": 3
   },
   "file_extension": ".py",
   "mimetype": "text/x-python",
   "name": "python",
   "nbconvert_exporter": "python",
   "pygments_lexer": "ipython3",
   "version": "3.7.4"
  }
 },
 "nbformat": 4,
 "nbformat_minor": 2
}
